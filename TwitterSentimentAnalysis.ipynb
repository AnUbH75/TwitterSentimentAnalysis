{
 "cells": [
  {
   "cell_type": "code",
   "execution_count": 125,
   "id": "8ee9471b",
   "metadata": {},
   "outputs": [],
   "source": [
    "import pandas as pd\n",
    "train_tweets = pd.read_csv('twitter_x_y_train.csv')\n",
    "test_tweets = pd.read_csv('twitter_x_test.csv')"
   ]
  },
  {
   "cell_type": "code",
   "execution_count": 126,
   "id": "e65509f1",
   "metadata": {},
   "outputs": [],
   "source": [
    "import nltk\n",
    "from nltk.tokenize import sent_tokenize, word_tokenize\n",
    "from nltk.stem import WordNetLemmatizer\n",
    "from nltk import pos_tag\n",
    "from nltk.corpus import wordnet\n",
    "lemmatizer = WordNetLemmatizer()"
   ]
  },
  {
   "cell_type": "code",
   "execution_count": 3,
   "id": "78cea7a1",
   "metadata": {},
   "outputs": [],
   "source": [
    "from nltk.corpus import stopwords\n",
    "import string\n",
    "stop = stopwords.words('english')\n",
    "punc = list(string.punctuation)\n",
    "stop = stop + punc"
   ]
  },
  {
   "cell_type": "code",
   "execution_count": 4,
   "id": "c91818da",
   "metadata": {},
   "outputs": [],
   "source": [
    "trainTweets = []\n",
    "for i in range(len(train_tweets)):\n",
    "    text = train_tweets['text'][i]\n",
    "    words = word_tokenize(text.lower())\n",
    "    trainTweets.append((words, train_tweets['airline_sentiment'][i]))"
   ]
  },
  {
   "cell_type": "code",
   "execution_count": 5,
   "id": "e905ba8e",
   "metadata": {},
   "outputs": [],
   "source": [
    "testTweets = []\n",
    "for i in range(len(test_tweets)):\n",
    "    text = test_tweets['text'][i]\n",
    "    words = word_tokenize(text.lower())\n",
    "    testTweets.append(words)"
   ]
  },
  {
   "cell_type": "code",
   "execution_count": 6,
   "id": "c65d4e73",
   "metadata": {},
   "outputs": [],
   "source": [
    "def clean_review(words):\n",
    "    output_words = []\n",
    "    for w in words:\n",
    "        if w.lower() not in stop:\n",
    "            pos = pos_tag([w])\n",
    "            clean_word = lemmatizer.lemmatize(w, pos = get_simple_pos(pos[0][1]))\n",
    "            output_words.append(clean_word.lower())\n",
    "    return output_words"
   ]
  },
  {
   "cell_type": "code",
   "execution_count": 7,
   "id": "c6c5449d",
   "metadata": {},
   "outputs": [],
   "source": [
    "def get_simple_pos(tag):\n",
    "    if tag.startswith('J'):\n",
    "        return wordnet.ADJ\n",
    "    elif tag.startswith('V'):\n",
    "        return wordnet.VERB\n",
    "    if tag.startswith('N'):\n",
    "        return wordnet.NOUN\n",
    "    if tag.startswith('R'):\n",
    "        return wordnet.ADV\n",
    "    else:\n",
    "        return wordnet.NOUN"
   ]
  },
  {
   "cell_type": "code",
   "execution_count": 8,
   "id": "024fea04",
   "metadata": {},
   "outputs": [],
   "source": [
    "trainTweets_clean = [(clean_review(tweet),sentiment) for tweet, sentiment in trainTweets]\n",
    "testTweets_clean = [(clean_review(tweet)) for tweet in testTweets]"
   ]
  },
  {
   "cell_type": "code",
   "execution_count": 9,
   "id": "7107fea8",
   "metadata": {},
   "outputs": [],
   "source": [
    "all_words_train = []\n",
    "for tweet in trainTweets_clean:\n",
    "    all_words_train += tweet[0]"
   ]
  },
  {
   "cell_type": "code",
   "execution_count": 10,
   "id": "7783e375",
   "metadata": {},
   "outputs": [],
   "source": [
    "all_words_test = []\n",
    "for tweet in testTweets_clean:\n",
    "    all_words_test += tweet[0]"
   ]
  },
  {
   "cell_type": "code",
   "execution_count": 11,
   "id": "4b7b3708",
   "metadata": {},
   "outputs": [],
   "source": [
    "freq = nltk.FreqDist(all_words_train)\n",
    "common = freq.most_common(3000)\n",
    "features = [i[0] for i in common]"
   ]
  },
  {
   "cell_type": "code",
   "execution_count": 12,
   "id": "c4f1b8f8",
   "metadata": {},
   "outputs": [],
   "source": [
    "def get_feature_dict(words):\n",
    "    current_features = {}\n",
    "    words_set = set(words)\n",
    "    for w in features:\n",
    "        current_features[w] = w in words_set\n",
    "    return current_features"
   ]
  },
  {
   "cell_type": "code",
   "execution_count": 30,
   "id": "b423e78f",
   "metadata": {},
   "outputs": [],
   "source": [
    "from sklearn.feature_extraction.text import CountVectorizer"
   ]
  },
  {
   "cell_type": "code",
   "execution_count": 32,
   "id": "9ce3be06",
   "metadata": {},
   "outputs": [],
   "source": [
    "sentiments = [sentiment for tweet, sentiment in trainTweets_clean]"
   ]
  },
  {
   "cell_type": "code",
   "execution_count": 33,
   "id": "454f5568",
   "metadata": {},
   "outputs": [],
   "source": [
    "text_tweets = [\" \".join(tweet) for tweet, sentiment in trainTweets_clean]"
   ]
  },
  {
   "cell_type": "code",
   "execution_count": 34,
   "id": "cbfed4c6",
   "metadata": {},
   "outputs": [],
   "source": [
    "from sklearn.model_selection import train_test_split"
   ]
  },
  {
   "cell_type": "code",
   "execution_count": 94,
   "id": "0af8776d",
   "metadata": {},
   "outputs": [],
   "source": [
    "x_train, x_test, y_train, y_test = train_test_split(text_tweets, sentiments, test_size=0.2, random_state=42)"
   ]
  },
  {
   "cell_type": "code",
   "execution_count": 96,
   "id": "d8241694",
   "metadata": {},
   "outputs": [],
   "source": [
    "from sklearn.feature_extraction.text import TfidfVectorizer",
    "from sklearn.svm import SVC
   ]
  },
  {
   "cell_type": "code",
   "execution_count": 145,
   "id": "5928f255",
   "metadata": {},
   "outputs": [
    {
     "name": "stdout",
     "output_type": "stream",
     "text": [
      "CountVecSc :  0.7700364298724954\n",
      "TfidfVecSc :  0.76775956284153\n",
      "CountVecSc :  0.7700364298724954\n",
      "TfidfVecSc :  0.76775956284153\n",
      "CountVecSc :  0.7700364298724954\n",
      "TfidfVecSc :  0.76775956284153\n",
      "CountVecSc :  0.7700364298724954\n",
      "TfidfVecSc :  0.76775956284153\n",
      "CountVecSc :  0.7700364298724954\n",
      "TfidfVecSc :  0.76775956284153\n",
      "CountVecSc :  0.20901639344262296\n",
      "TfidfVecSc :  0.76775956284153\n"
     ]
    }
   ],
   "source": [
    "df = [0.7, 0.75, 0.8, 0.85, 0.9, 1]\n",
    "\n",
    "for i in df:\n",
    "    count_vec = CountVectorizer(max_features = 2000, ngram_range = (1,2), max_df = i)\n",
    "    x_train_features = count_vec.fit_transform(x_train)\n",
    "    x_test_features = count_vec.transform(x_test)\n",
    "    \n",
    "    tfidf_vec = TfidfVectorizer(max_features = 2000, ngram_range = (1,2), max_df = i)\n",
    "    x_train_features_tfidf = tfidf_vec.fit_transform(x_train)\n",
    "    x_test_features_tfidf = tfidf_vec.transform(x_test)\n",
    "    \n",
    "    svc_cv = SVC()\n",
    "    svc_cv.fit(x_train_features, y_train)\n",
    "    print('CountVecSc : ', svc_cv.score(x_test_features, y_test))\n",
    "    \n",
    "    svc_tfidf = SVC()\n",
    "    svc_tfidf.fit(x_train_features_tfidf, y_train)\n",
    "    print('TfidfVecSc : ', svc_tfidf.score(x_test_features_tfidf, y_test)) "
   ]
  },
  {
   "cell_type": "code",
   "execution_count": 146,
   "id": "df3365c3",
   "metadata": {},
   "outputs": [
    {
     "data": {
      "text/html": [
       "<style>#sk-container-id-21 {color: black;}#sk-container-id-21 pre{padding: 0;}#sk-container-id-21 div.sk-toggleable {background-color: white;}#sk-container-id-21 label.sk-toggleable__label {cursor: pointer;display: block;width: 100%;margin-bottom: 0;padding: 0.3em;box-sizing: border-box;text-align: center;}#sk-container-id-21 label.sk-toggleable__label-arrow:before {content: \"▸\";float: left;margin-right: 0.25em;color: #696969;}#sk-container-id-21 label.sk-toggleable__label-arrow:hover:before {color: black;}#sk-container-id-21 div.sk-estimator:hover label.sk-toggleable__label-arrow:before {color: black;}#sk-container-id-21 div.sk-toggleable__content {max-height: 0;max-width: 0;overflow: hidden;text-align: left;background-color: #f0f8ff;}#sk-container-id-21 div.sk-toggleable__content pre {margin: 0.2em;color: black;border-radius: 0.25em;background-color: #f0f8ff;}#sk-container-id-21 input.sk-toggleable__control:checked~div.sk-toggleable__content {max-height: 200px;max-width: 100%;overflow: auto;}#sk-container-id-21 input.sk-toggleable__control:checked~label.sk-toggleable__label-arrow:before {content: \"▾\";}#sk-container-id-21 div.sk-estimator input.sk-toggleable__control:checked~label.sk-toggleable__label {background-color: #d4ebff;}#sk-container-id-21 div.sk-label input.sk-toggleable__control:checked~label.sk-toggleable__label {background-color: #d4ebff;}#sk-container-id-21 input.sk-hidden--visually {border: 0;clip: rect(1px 1px 1px 1px);clip: rect(1px, 1px, 1px, 1px);height: 1px;margin: -1px;overflow: hidden;padding: 0;position: absolute;width: 1px;}#sk-container-id-21 div.sk-estimator {font-family: monospace;background-color: #f0f8ff;border: 1px dotted black;border-radius: 0.25em;box-sizing: border-box;margin-bottom: 0.5em;}#sk-container-id-21 div.sk-estimator:hover {background-color: #d4ebff;}#sk-container-id-21 div.sk-parallel-item::after {content: \"\";width: 100%;border-bottom: 1px solid gray;flex-grow: 1;}#sk-container-id-21 div.sk-label:hover label.sk-toggleable__label {background-color: #d4ebff;}#sk-container-id-21 div.sk-serial::before {content: \"\";position: absolute;border-left: 1px solid gray;box-sizing: border-box;top: 0;bottom: 0;left: 50%;z-index: 0;}#sk-container-id-21 div.sk-serial {display: flex;flex-direction: column;align-items: center;background-color: white;padding-right: 0.2em;padding-left: 0.2em;position: relative;}#sk-container-id-21 div.sk-item {position: relative;z-index: 1;}#sk-container-id-21 div.sk-parallel {display: flex;align-items: stretch;justify-content: center;background-color: white;position: relative;}#sk-container-id-21 div.sk-item::before, #sk-container-id-21 div.sk-parallel-item::before {content: \"\";position: absolute;border-left: 1px solid gray;box-sizing: border-box;top: 0;bottom: 0;left: 50%;z-index: -1;}#sk-container-id-21 div.sk-parallel-item {display: flex;flex-direction: column;z-index: 1;position: relative;background-color: white;}#sk-container-id-21 div.sk-parallel-item:first-child::after {align-self: flex-end;width: 50%;}#sk-container-id-21 div.sk-parallel-item:last-child::after {align-self: flex-start;width: 50%;}#sk-container-id-21 div.sk-parallel-item:only-child::after {width: 0;}#sk-container-id-21 div.sk-dashed-wrapped {border: 1px dashed gray;margin: 0 0.4em 0.5em 0.4em;box-sizing: border-box;padding-bottom: 0.4em;background-color: white;}#sk-container-id-21 div.sk-label label {font-family: monospace;font-weight: bold;display: inline-block;line-height: 1.2em;}#sk-container-id-21 div.sk-label-container {text-align: center;}#sk-container-id-21 div.sk-container {/* jupyter's `normalize.less` sets `[hidden] { display: none; }` but bootstrap.min.css set `[hidden] { display: none !important; }` so we also need the `!important` here to be able to override the default hidden behavior on the sphinx rendered scikit-learn.org. See: https://github.com/scikit-learn/scikit-learn/issues/21755 */display: inline-block !important;position: relative;}#sk-container-id-21 div.sk-text-repr-fallback {display: none;}</style><div id=\"sk-container-id-21\" class=\"sk-top-container\"><div class=\"sk-text-repr-fallback\"><pre>SVC()</pre><b>In a Jupyter environment, please rerun this cell to show the HTML representation or trust the notebook. <br />On GitHub, the HTML representation is unable to render, please try loading this page with nbviewer.org.</b></div><div class=\"sk-container\" hidden><div class=\"sk-item\"><div class=\"sk-estimator sk-toggleable\"><input class=\"sk-toggleable__control sk-hidden--visually\" id=\"sk-estimator-id-21\" type=\"checkbox\" checked><label for=\"sk-estimator-id-21\" class=\"sk-toggleable__label sk-toggleable__label-arrow\">SVC</label><div class=\"sk-toggleable__content\"><pre>SVC()</pre></div></div></div></div></div>"
      ],
      "text/plain": [
       "SVC()"
      ]
     },
     "execution_count": 146,
     "metadata": {},
     "output_type": "execute_result"
    }
   ],
   "source": [
    "count_vec = CountVectorizer(max_features = 2000, ngram_range = (1,2), max_df = 0.8)\n",
    "x_train_features = count_vec.fit_transform(x_train)\n",
    "x_test_features = count_vec.transform(x_test)\n",
    "svc_cv = SVC()\n",
    "svc_cv.fit(x_train_features, y_train)"
   ]
  },
  {
   "cell_type": "code",
   "execution_count": 150,
   "id": "6216659a",
   "metadata": {},
   "outputs": [],
   "source": [
    "test_tweets = [\" \".join(tweet) for tweet in testTweets_clean]\n",
    "test_tweets_features = count_vec.transform(test_tweets)"
   ]
  },
  {
   "cell_type": "code",
   "execution_count": 152,
   "id": "2a1cf308",
   "metadata": {},
   "outputs": [],
   "source": [
    "y_pred = svc_cv.predict(test_tweets_features)"
   ]
  },
  {
   "cell_type": "code",
   "execution_count": 154,
   "id": "59dc89d3",
   "metadata": {},
   "outputs": [
    {
     "name": "stdout",
     "output_type": "stream",
     "text": [
      "Saved to twitter_results.csv\n"
     ]
    }
   ],
   "source": [
    "import pandas as pd\n",
    "results = pd.DataFrame({'airline_sentiment' : y_pred})\n",
    "results.to_csv(\"twitter_results.csv\", index=False)   \n",
    "print(\"Saved to twitter_results.csv\")"
   ]
  }
 ],
 "metadata": {
  "kernelspec": {
   "display_name": "Python 3 (ipykernel)",
   "language": "python",
   "name": "python3"
  },
  "language_info": {
   "codemirror_mode": {
    "name": "ipython",
    "version": 3
   },
   "file_extension": ".py",
   "mimetype": "text/x-python",
   "name": "python",
   "nbconvert_exporter": "python",
   "pygments_lexer": "ipython3",
   "version": "3.11.4"
  }
 },
 "nbformat": 4,
 "nbformat_minor": 5
}
